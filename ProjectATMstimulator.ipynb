{
 "cells": [
  {
   "cell_type": "code",
   "execution_count": 2,
   "id": "f1434193-aff6-40c6-81a5-9f9690d02ea3",
   "metadata": {},
   "outputs": [
    {
     "name": "stdout",
     "output_type": "stream",
     "text": [
      "\n",
      "            ***** Welcome To ATM Machine Simulator *****\n",
      "         \n"
     ]
    },
    {
     "name": "stdin",
     "output_type": "stream",
     "text": [
      "Enter Your Pin:  65566\n"
     ]
    },
    {
     "name": "stdout",
     "output_type": "stream",
     "text": [
      "\n",
      "              Options you can Excercise are:\n",
      "              1) Balance\n",
      "              2) Withdraw\n",
      "              3) Deposit\n",
      "              4) Exit\n",
      "         \n"
     ]
    },
    {
     "name": "stdin",
     "output_type": "stream",
     "text": [
      "Enter your choice:  2\n",
      "Enter the amount you want to withdraw:  60000\n"
     ]
    },
    {
     "name": "stdout",
     "output_type": "stream",
     "text": [
      "Insufficient balance\n",
      "\n",
      "              Options you can Excercise are:\n",
      "              1) Balance\n",
      "              2) Withdraw\n",
      "              3) Deposit\n",
      "              4) Exit\n",
      "         \n"
     ]
    },
    {
     "name": "stdin",
     "output_type": "stream",
     "text": [
      "Enter your choice:  2\n",
      "Enter the amount you want to withdraw:  500\n"
     ]
    },
    {
     "name": "stdout",
     "output_type": "stream",
     "text": [
      "Your remaining balance is: 9500\n",
      "\n",
      "              Options you can Excercise are:\n",
      "              1) Balance\n",
      "              2) Withdraw\n",
      "              3) Deposit\n",
      "              4) Exit\n",
      "         \n"
     ]
    },
    {
     "name": "stdin",
     "output_type": "stream",
     "text": [
      "Enter your choice:  3\n",
      "Enter the amount you want to deposit:  120\n"
     ]
    },
    {
     "name": "stdout",
     "output_type": "stream",
     "text": [
      "Your updated balance is: 9620\n",
      "\n",
      "              Options you can Excercise are:\n",
      "              1) Balance\n",
      "              2) Withdraw\n",
      "              3) Deposit\n",
      "              4) Exit\n",
      "         \n"
     ]
    },
    {
     "name": "stdin",
     "output_type": "stream",
     "text": [
      "Enter your choice:  4\n"
     ]
    },
    {
     "name": "stdout",
     "output_type": "stream",
     "text": [
      "Thank you for using ATM Machine\n"
     ]
    }
   ],
   "source": [
    "# prompt: def atm_simulation():\n",
    "#     balance=10000\n",
    "#     correct_pin = 65566\n",
    "#     print('''\n",
    "#             ***** Welcome To ATM Machine Simulator *****\n",
    "#          ''')\n",
    "#     pin=int(input('Enter Your Pin: '))\n",
    "#     if pin!=correct_pin:\n",
    "#       print(\"Incorrect pin\")\n",
    "#       print(\"Thank you\")\n",
    "#       return\n",
    "#     while True:\n",
    "#       print('''\n",
    "#               Options you can Excercise are:\n",
    "#               1) Balance\n",
    "#               2)\n",
    "\n",
    "def atm_simulation():\n",
    "    balance=10000\n",
    "    correct_pin = 65566\n",
    "    print('''\n",
    "            ***** Welcome To ATM Machine Simulator *****\n",
    "         ''')\n",
    "    pin=int(input('Enter Your Pin: '))\n",
    "    if pin!=correct_pin:\n",
    "      print(\"Incorrect pin\")\n",
    "      print(\"Thank you\")\n",
    "      return\n",
    "    while True:\n",
    "      print('''\n",
    "              Options you can Excercise are:\n",
    "              1) Balance\n",
    "              2) Withdraw\n",
    "              3) Deposit\n",
    "              4) Exit\n",
    "         ''')\n",
    "      choice=int(input('Enter your choice: '))\n",
    "      if choice==1:\n",
    "        print(\"Your balance is:\",balance)\n",
    "      elif choice==2:\n",
    "        amount=int(input('Enter the amount you want to withdraw: '))\n",
    "        if amount>balance:\n",
    "          print(\"Insufficient balance\")\n",
    "        else:\n",
    "          balance-=amount\n",
    "          print(\"Your remaining balance is:\",balance)\n",
    "      elif choice==3:\n",
    "        amount=int(input('Enter the amount you want to deposit: '))\n",
    "        balance+=amount\n",
    "        print(\"Your updated balance is:\",balance)\n",
    "      elif choice==4:\n",
    "        print(\"Thank you for using ATM Machine\")\n",
    "        break\n",
    "      else:\n",
    "        print(\"Invalid choice\")\n",
    "\n",
    "atm_simulation()"
   ]
  },
  {
   "cell_type": "code",
   "execution_count": null,
   "id": "43957453-8b94-47d7-b6f4-ccf96eed614b",
   "metadata": {},
   "outputs": [],
   "source": []
  }
 ],
 "metadata": {
  "kernelspec": {
   "display_name": "Python 3 (ipykernel)",
   "language": "python",
   "name": "python3"
  },
  "language_info": {
   "codemirror_mode": {
    "name": "ipython",
    "version": 3
   },
   "file_extension": ".py",
   "mimetype": "text/x-python",
   "name": "python",
   "nbconvert_exporter": "python",
   "pygments_lexer": "ipython3",
   "version": "3.11.7"
  }
 },
 "nbformat": 4,
 "nbformat_minor": 5
}
